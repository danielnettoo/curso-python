{
 "cells": [
  {
   "cell_type": "code",
   "execution_count": 4,
   "id": "58aa0b85",
   "metadata": {},
   "outputs": [
    {
     "name": "stdout",
     "output_type": "stream",
     "text": [
      "256\n",
      "8\n"
     ]
    }
   ],
   "source": [
    "print(2**8)\n",
    "print(3+5)"
   ]
  },
  {
   "cell_type": "code",
   "execution_count": 5,
   "id": "06aa5192",
   "metadata": {},
   "outputs": [
    {
     "data": {
      "text/plain": [
       "6"
      ]
     },
     "execution_count": 5,
     "metadata": {},
     "output_type": "execute_result"
    }
   ],
   "source": [
    "1+2+3"
   ]
  },
  {
   "cell_type": "code",
   "execution_count": null,
   "id": "5725e1e8",
   "metadata": {},
   "outputs": [],
   "source": []
  },
  {
   "cell_type": "code",
   "execution_count": 3,
   "id": "48f568b5",
   "metadata": {},
   "outputs": [
    {
     "name": "stdout",
     "output_type": "stream",
     "text": [
      "Teste Jupyter\n"
     ]
    }
   ],
   "source": [
    "print ('Teste Jupyter')"
   ]
  },
  {
   "cell_type": "markdown",
   "id": "6580aa65",
   "metadata": {},
   "source": [
    "# Essa é uma notaTitulo\n",
    "## Esse seria um subtitulo "
   ]
  },
  {
   "cell_type": "code",
   "execution_count": null,
   "id": "8e1a7a98",
   "metadata": {},
   "outputs": [],
   "source": []
  }
 ],
 "metadata": {
  "kernelspec": {
   "display_name": "Python 3 (ipykernel)",
   "language": "python",
   "name": "python3"
  },
  "language_info": {
   "codemirror_mode": {
    "name": "ipython",
    "version": 3
   },
   "file_extension": ".py",
   "mimetype": "text/x-python",
   "name": "python",
   "nbconvert_exporter": "python",
   "pygments_lexer": "ipython3",
   "version": "3.9.7"
  }
 },
 "nbformat": 4,
 "nbformat_minor": 5
}
