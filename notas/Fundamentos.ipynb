{
 "cells": [
  {
   "cell_type": "markdown",
   "id": "806b4ff7",
   "metadata": {},
   "source": [
    "# Primeiros Exemplos"
   ]
  },
  {
   "cell_type": "code",
   "execution_count": 1,
   "id": "95f26e45",
   "metadata": {},
   "outputs": [
    {
     "name": "stdout",
     "output_type": "stream",
     "text": [
      "Primeiro programa\n"
     ]
    }
   ],
   "source": [
    "print('Primeiro programa')"
   ]
  },
  {
   "cell_type": "code",
   "execution_count": null,
   "id": "d722949f",
   "metadata": {},
   "outputs": [],
   "source": [
    "# asiugfaiugbf\n",
    "# igabfyiegbiaegb\n",
    "# iuacghd"
   ]
  }
 ],
 "metadata": {
  "kernelspec": {
   "display_name": "Python 3 (ipykernel)",
   "language": "python",
   "name": "python3"
  },
  "language_info": {
   "codemirror_mode": {
    "name": "ipython",
    "version": 3
   },
   "file_extension": ".py",
   "mimetype": "text/x-python",
   "name": "python",
   "nbconvert_exporter": "python",
   "pygments_lexer": "ipython3",
   "version": "3.9.7"
  }
 },
 "nbformat": 4,
 "nbformat_minor": 5
}
